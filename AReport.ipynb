{
 "cells": [
  {
   "cell_type": "markdown",
   "metadata": {},
   "source": [
    "# Анализ и предобработка данных"
   ]
  },
  {
   "cell_type": "markdown",
   "metadata": {},
   "source": [
    "## Анализ"
   ]
  },
  {
   "cell_type": "markdown",
   "metadata": {},
   "source": [
    "В предоставленном нам датасете есть 4 архива:\n",
    "- Data1\n",
    "- Data2\n",
    "- Data3\n",
    "- Data4"
   ]
  },
  {
   "cell_type": "markdown",
   "metadata": {},
   "source": [
    "Структура данных архивов:\n",
    "> Data1:\n",
    ">> - Data1:\n",
    ">>> - Negative - фотографии окружающей среды, частей автомобилей\n",
    "\n",
    "> Data2:\n",
    ">> - Data2:\n",
    ">>> - NumBase - фотографии автомобильных номеров\n",
    "\n",
    "> Data3:\n",
    ">> - Data3:\n",
    ">>> - Sambols:\n",
    ">>>> - папки под номером 0-9 содержат цифры от 0 до 9 в одноименных папках\n",
    ">>>> - папки под ноер 10-21 содержат буквы англицского алфавита использующиес в руских номерах\n",
    ">>>> - 22 - фотографии окружающей сред, частей автомобилей\n",
    "\n",
    "> Data4:\n",
    ">> - Data4:\n",
    ">>> - classes - классы\n",
    ">>> - full - фотографии машин с номерами\n",
    ">>> - fullAnnotation - разметка к фотографиям в папке full в формате YOLO"
   ]
  },
  {
   "cell_type": "markdown",
   "metadata": {},
   "source": [
    "Класс у нас только один и это Vehicle plate, он представляет собой автомобильный номер"
   ]
  },
  {
   "cell_type": "markdown",
   "metadata": {},
   "source": [
    "В ходе анализа предоставленных данных было выявлено две категории данных для обучения двух разных моделей, одни данные подходят для обучения модели поиска объектов, а другие подходят для обучения модели для распознавания текста. Было принято решение разделить данные по двум папкам в зависимости от тоо к обучнию какой модели они подходят."
   ]
  },
  {
   "cell_type": "markdown",
   "metadata": {},
   "source": [
    "## Разархивирование данных"
   ]
  },
  {
   "cell_type": "markdown",
   "metadata": {},
   "source": [
    "Для начала данные надо разархивировать для удобства работы с ними"
   ]
  },
  {
   "cell_type": "code",
   "execution_count": 1,
   "metadata": {},
   "outputs": [],
   "source": [
    "import zipfile\n",
    "\n",
    "def unzip(file, path): # функция для разархивирования\n",
    "    with zipfile.ZipFile(file, 'r') as zip_file:\n",
    "        zip_file.extractall(path)\n",
    "# file - путь от куда\n",
    "# path - путь куда\n"
   ]
  },
  {
   "cell_type": "markdown",
   "metadata": {},
   "source": [
    "В самом начале разархивируем данные отдельно по каждой из папок, после объединим"
   ]
  },
  {
   "cell_type": "markdown",
   "metadata": {},
   "source": [
    "Разархиврование архива Data1"
   ]
  },
  {
   "cell_type": "code",
   "execution_count": 8,
   "metadata": {},
   "outputs": [],
   "source": [
    "unzip('C:/Users/Participant/Desktop/Datasets/Data1.zip', 'C:/Users/Participant/Desktop/lipatnikova/A/1')"
   ]
  },
  {
   "cell_type": "markdown",
   "metadata": {},
   "source": [
    "Разархивирование архива Data2"
   ]
  },
  {
   "cell_type": "code",
   "execution_count": 7,
   "metadata": {},
   "outputs": [],
   "source": [
    "unzip('C:/Users/Participant/Desktop/Datasets/Data2.zip', 'C:/Users/Participant/Desktop/lipatnikova/A/2')"
   ]
  },
  {
   "cell_type": "markdown",
   "metadata": {},
   "source": [
    "Разархивирование архива Data3"
   ]
  },
  {
   "cell_type": "code",
   "execution_count": 6,
   "metadata": {},
   "outputs": [],
   "source": [
    "unzip('C:/Users/Participant/Desktop/Datasets/Data3.zip', 'C:/Users/Participant/Desktop/lipatnikova/A/3')"
   ]
  },
  {
   "cell_type": "markdown",
   "metadata": {},
   "source": [
    "Разархиврование архива Data4"
   ]
  },
  {
   "cell_type": "code",
   "execution_count": 5,
   "metadata": {},
   "outputs": [],
   "source": [
    "unzip('C:/Users/Participant/Desktop/Datasets/Data4.zip', 'C:/Users/Participant/Desktop/lipatnikova/A/4')"
   ]
  },
  {
   "cell_type": "markdown",
   "metadata": {},
   "source": [
    "## Объединение данных"
   ]
  },
  {
   "cell_type": "markdown",
   "metadata": {},
   "source": [
    "Так как ранее мною было решено разделить наши данные на две папки, будет следующая структура папок (название папки -> какие архивы или папки в архиве будут в ней состоять):\n",
    "\n",
    "> object:\n",
    ">> - Data1 - Data1 - Negative\n",
    ">> - Data2 - Data2 - NumBase\n",
    ">> - Data4 - Data4\n",
    "\n",
    "> read_numbers:\n",
    ">> - Data3 - Data3"
   ]
  },
  {
   "cell_type": "markdown",
   "metadata": {},
   "source": [
    "Выше перечисленные папки будут находиться в папки Data"
   ]
  },
  {
   "cell_type": "markdown",
   "metadata": {},
   "source": [
    "Переносим данные в ручную, так как есть файлы с одинаковыми названиями и в ручную будет проще отследить затерание фото или иных файлов"
   ]
  },
  {
   "cell_type": "markdown",
   "metadata": {},
   "source": [
    "В папке object будет создано две папки: labels, images. В первой будет храниться разметка к фото, во второй фотографии"
   ]
  },
  {
   "cell_type": "markdown",
   "metadata": {},
   "source": [
    "Проверим не потеряли ли мы данные после переноса:"
   ]
  },
  {
   "cell_type": "code",
   "execution_count": 16,
   "metadata": {},
   "outputs": [
    {
     "name": "stdout",
     "output_type": "stream",
     "text": [
      "Общее кол-во файлов изначально:  40054\n",
      "Общее кол-во файлов в новых папках:  35286\n"
     ]
    }
   ],
   "source": [
    "from pathlib import Path\n",
    "\n",
    "path_back = Path('C:/Users/Participant/Desktop/lipatnikova/A/all')\n",
    "print('Общее кол-во файлов изначально: ', sum(1 for x in path_back.rglob('*') if x.is_file()))\n",
    "\n",
    "path_back = Path('C:/Users/Participant/Desktop/lipatnikova/A/Data')\n",
    "print('Общее кол-во файлов в новых папках: ', sum(1 for x in path_back.rglob('*') if x.is_file()))"
   ]
  },
  {
   "cell_type": "markdown",
   "metadata": {},
   "source": [
    "Кол-во данных в новых папках уменьшилось из-за того что после вы удаляем некоторые данные, нам не обходимые"
   ]
  },
  {
   "cell_type": "markdown",
   "metadata": {},
   "source": [
    "## Проверка корректности разметки"
   ]
  },
  {
   "cell_type": "markdown",
   "metadata": {},
   "source": [
    "Так как есть много фотографий без номеров, различие в кол-ве файлов разметки и фото будет сильно отличаться"
   ]
  },
  {
   "cell_type": "markdown",
   "metadata": {},
   "source": [
    "Чтобы заполнить данные разметки мною был выбран атрибут Yolo-Annotation-Tool. Он достаточно прост в использовании и соответсвует данной нам формату разметки в предоставленных данных."
   ]
  },
  {
   "cell_type": "markdown",
   "metadata": {},
   "source": [
    "Чтобы запустить данную утилиту требуется запустить файл Annotate.html в папке YOLO-Annotation-Tool"
   ]
  },
  {
   "cell_type": "markdown",
   "metadata": {},
   "source": [
    "Проверяем кол-во всех файлов в разархивированных изначальных данных"
   ]
  },
  {
   "cell_type": "code",
   "execution_count": 9,
   "metadata": {},
   "outputs": [
    {
     "name": "stdout",
     "output_type": "stream",
     "text": [
      "Кол-во файлов разметки изначально 5900\n"
     ]
    }
   ],
   "source": [
    "from pathlib import Path\n",
    "\n",
    "path_back = Path('C:/Users/Participant/Desktop/lipatnikova/A/Data/object/labels')\n",
    "print('Кол-во файлов разметки изначально: ', sum(1 for x in path_back.rglob('*') if x.is_file()))"
   ]
  },
  {
   "cell_type": "markdown",
   "metadata": {},
   "source": [
    "Во время проверки разметки и заполнения пропусков мною были найдены данные неправильной разметки, а именно, как автомобильный номер были отмечены целые машины, фары, асфальт и другое."
   ]
  },
  {
   "cell_type": "markdown",
   "metadata": {},
   "source": [
    "Так как время на разметку данных у нас ограничено, было принято решение использовать не все 15614 картинок, а , подходящих под сделанню нами разметку, остальные фото удаляем, оставшегося датасета хватит для обучения модели."
   ]
  },
  {
   "cell_type": "code",
   "execution_count": 12,
   "metadata": {},
   "outputs": [
    {
     "name": "stdout",
     "output_type": "stream",
     "text": [
      "Кол-во файлов разметки после проверки и заполнения пропусков:  8373\n"
     ]
    }
   ],
   "source": [
    "from pathlib import Path\n",
    "\n",
    "path_back = Path('C:/Users/Participant/Desktop/lipatnikova/A/Data/object/labels')\n",
    "print('Кол-во файлов разметки после проверки и заполнения пропусков: ', sum(1 for x in path_back.rglob('*') if x.is_file()))"
   ]
  },
  {
   "cell_type": "code",
   "execution_count": 15,
   "metadata": {},
   "outputs": [
    {
     "name": "stdout",
     "output_type": "stream",
     "text": [
      "Кол-во картинок после удаления лишних  8373\n"
     ]
    }
   ],
   "source": [
    "from pathlib import Path\n",
    "\n",
    "path_back = Path('C:/Users/Participant/Desktop/lipatnikova/A/Data/object/images')\n",
    "print('Кол-во картинок после удаления лишних ', sum(1 for x in path_back.rglob('*') if x.is_file()))"
   ]
  }
 ],
 "metadata": {
  "kernelspec": {
   "display_name": "Python 3",
   "language": "python",
   "name": "python3"
  },
  "language_info": {
   "codemirror_mode": {
    "name": "ipython",
    "version": 3
   },
   "file_extension": ".py",
   "mimetype": "text/x-python",
   "name": "python",
   "nbconvert_exporter": "python",
   "pygments_lexer": "ipython3",
   "version": "3.12.2"
  }
 },
 "nbformat": 4,
 "nbformat_minor": 2
}
